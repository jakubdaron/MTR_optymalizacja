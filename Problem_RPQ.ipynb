{
  "nbformat": 4,
  "nbformat_minor": 0,
  "metadata": {
    "colab": {
      "provenance": [],
      "authorship_tag": "ABX9TyMuq0OwOgrQiIoNJzcHWqAl",
      "include_colab_link": true
    },
    "kernelspec": {
      "name": "python3",
      "display_name": "Python 3"
    },
    "language_info": {
      "name": "python"
    }
  },
  "cells": [
    {
      "cell_type": "markdown",
      "metadata": {
        "id": "view-in-github",
        "colab_type": "text"
      },
      "source": [
        "<a href=\"https://colab.research.google.com/github/jakubdaron/MTR_optymalizacja/blob/main/Problem_RPQ.ipynb\" target=\"_parent\"><img src=\"https://colab.research.google.com/assets/colab-badge.svg\" alt=\"Open In Colab\"/></a>"
      ]
    },
    {
      "cell_type": "code",
      "execution_count": null,
      "metadata": {
        "id": "fpVymJ0T5ZTC"
      },
      "outputs": [],
      "source": [
        "import random\n",
        "import numpy as np\n",
        "\n",
        "def generate_sorted_rpq_table(n, F):\n",
        "    rpq = []\n",
        "    # generate random r, p, q values\n",
        "    for i in range(n):\n",
        "        # always generate unique values for r since two tasks cannot occur at the same time\n",
        "        while True:\n",
        "            r = random.randint(0, n*F)\n",
        "            if r not in [item[0] for item in rpq]:\n",
        "                break\n",
        "\n",
        "        p = random.randint(1, 50)\n",
        "        q = random.randint(0, n*F)\n",
        "        rpq.append([r, p, q])\n",
        "\n",
        "    # sort rpq table in increasing order of r values\n",
        "    rpq = np.array(rpq)\n",
        "    sorted_rpq = rpq[rpq[:, 0].argsort()]\n",
        "    #sorted_rpq = np.array([[6, 4, 2], [7, 8, 1], [10, 2, 3], [12, 3, 0]])\n",
        "    return sorted_rpq\n",
        "\n",
        "def add_and_sort_bufor(sorted_rpq, iteration, bufor_queue):\n",
        "    bufor = sorted_rpq[iteration].tolist()\n",
        "    bufor_queue.append(bufor)\n",
        "    bufor_queue = np.array(bufor_queue)\n",
        "\n",
        "    # sort bufor_queue in decreasing order of q values\n",
        "    sorted_bufor = bufor_queue[bufor_queue[:, 2].argsort()[::-1]]\n",
        "    bufor_queue = sorted_bufor.tolist()\n",
        "    return bufor_queue\n",
        "\n",
        "def optimise_function(sorted_rpq, n):\n",
        "    iteration = 0\n",
        "    bufor_queue = []\n",
        "    current_task = 0\n",
        "    time = 0\n",
        "    end_iteration = 0\n",
        "    end_def = 0\n",
        "\n",
        "    while end_def == 0:\n",
        "        #print(current_task)\n",
        "        if time == sorted_rpq[iteration, 0]:\n",
        "            if current_task <= 0 and len(bufor_queue) == 0:\n",
        "                current_task = sorted_rpq[iteration, 1]\n",
        "            elif current_task <= 0 and len(bufor_queue) > 0:\n",
        "                bufor_queue = add_and_sort_bufor(sorted_rpq, iteration, bufor_queue)\n",
        "                current_task = bufor_queue[0][1]\n",
        "                bufor_queue.pop(0)\n",
        "            else:\n",
        "                bufor_queue = add_and_sort_bufor(sorted_rpq, iteration, bufor_queue)\n",
        "\n",
        "            if iteration < n-1:\n",
        "                iteration += 1\n",
        "            else:\n",
        "                end_iteration = 1\n",
        "\n",
        "        elif current_task <= 0:\n",
        "            if bufor_queue:\n",
        "                current_task = bufor_queue[0][1]\n",
        "                bufor_queue.pop(0)\n",
        "\n",
        "        print(f\"time: {time}, current_task: {current_task}, bufor_queue: {bufor_queue}\")\n",
        "        #print(f\"time: {time}, current_task: {current_task}\")\n",
        "        time += 1\n",
        "        current_task -= 1\n",
        "\n",
        "        if end_iteration == 1:\n",
        "            if current_task == 0 and len(bufor_queue) == 0:\n",
        "                end_def = 1\n",
        "\n",
        "if __name__ == \"__main__\":\n",
        "    F = 17\n",
        "    n = 20\n",
        "    sorted_rpq = generate_sorted_rpq_table(n, F)\n",
        "    print(sorted_rpq)\n",
        "    optimise_function(sorted_rpq, n)"
      ]
    }
  ]
}